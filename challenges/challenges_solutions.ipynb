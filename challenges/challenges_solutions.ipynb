{
 "cells": [
  {
   "cell_type": "markdown",
   "metadata": {},
   "source": [
    "### Question Marks\n",
    "\n",
    "Have the function `QuestionsMarks(str)` take the str string parameter, which will contain single digit numbers, letters, and question marks, and check if there are exactly 3 question marks between every pair of two numbers that add up to 10. If so, then your program should return the string true, otherwise it should return the string false. If there aren't any two numbers that add up to 10 in the string, then your program should return false as well. \n",
    "\n",
    "\n",
    "For example: if str is `\"arrb6???4xxbl5???eee5\"` then your program should return true because there are exactly 3 question marks between 6 and 4, and 3 question marks between 5 and 5 at the end of the string. \n",
    "\n",
    "Sample Test Cases\n",
    "```\n",
    "Input:\"aa6?9\"\n",
    "Output:\"false\"\n",
    "\n",
    "\n",
    "Input:\"acc?7??sss?3rr1??????5\"\n",
    "Output:\"true\"\n",
    "```"
   ]
  },
  {
   "cell_type": "code",
   "execution_count": 1,
   "metadata": {},
   "outputs": [
    {
     "name": "stdout",
     "output_type": "stream",
     "text": [
      "\n"
     ]
    }
   ],
   "source": [
    "def QuestionsMarks(str): \n",
    "\n",
    "    # code goes here \n",
    "    return str\n",
    "    \n",
    "# keep this function call here  \n",
    "print(QuestionsMarks(''))"
   ]
  },
  {
   "cell_type": "code",
   "execution_count": 2,
   "metadata": {},
   "outputs": [
    {
     "name": "stdout",
     "output_type": "stream",
     "text": [
      "true\n",
      "false\n"
     ]
    }
   ],
   "source": [
    "def QuestionsMarks(s): \n",
    "    a, b = 0, 0\n",
    "    for i in range(len(s)-1):\n",
    "        for j in range(i, len(s)):\n",
    "            if s[i].isdigit() and s[j].isdigit() and int(s[i]) + int(s[j]) == 10:\n",
    "               a, b = i, j\n",
    "    new = s[a+1:b+1]\n",
    "    if new.count('?') == 3:\n",
    "        return 'true'\n",
    "    else:\n",
    "        return 'false'\n",
    "print(QuestionsMarks(\"acc?7??sss?3rr1??????5\"))\n",
    "print(QuestionsMarks(\"aa6?9\"))"
   ]
  },
  {
   "cell_type": "markdown",
   "metadata": {},
   "source": [
    "### Vowel Square\n",
    "\n",
    "Have the function VowelSquare(strArr) take the strArr parameter being passed which will be a 2D matrix of some arbitrary size filled with letters from the alphabet, and determine if a 2x2 square composed entirely of vowels exists in the matrix. For example: strArr is [\"abcd\", \"eikr\", \"oufj\"] then this matrix looks like the following: \n",
    "\n",
    "```\n",
    "a b c d\n",
    "e i k r\n",
    "o u f j \n",
    "```\n",
    "\n",
    "Within this matrix there is a 2x2 square of vowels starting in the second row and first column, namely, ei, ou. If a 2x2 square of vowels is found your program should return the top-left position (row-column) of the square, so for this example your program should return 1-0. If no 2x2 square of vowels exists, then return the string not found. If there are multiple squares of vowels, return the one that is at the most top-left position in the whole matrix. The input matrix will at least be of size 2x2. \n",
    "\n",
    "Sample Test Cases\n",
    "```\n",
    "Input:[\"aqrst\", \"ukaei\", \"ffooo\"]\n",
    "Output:\"1-2\"\n",
    "\n",
    "\n",
    "Input:[\"gg\", \"ff\"]\n",
    "Output:\"not found\"\n",
    "```"
   ]
  },
  {
   "cell_type": "code",
   "execution_count": 3,
   "metadata": {},
   "outputs": [
    {
     "name": "stdout",
     "output_type": "stream",
     "text": [
      " \n"
     ]
    }
   ],
   "source": [
    "def VowelSquare(strArr): \n",
    "\n",
    "    # code goes here \n",
    "    return strArr\n",
    "    \n",
    "# keep this function call here  \n",
    "print(VowelSquare(' '))"
   ]
  },
  {
   "cell_type": "code",
   "execution_count": 4,
   "metadata": {},
   "outputs": [
    {
     "name": "stdout",
     "output_type": "stream",
     "text": [
      "1-2\n"
     ]
    }
   ],
   "source": [
    "def VowelSquare(a):\n",
    "    for i in range(len(a) - 1):\n",
    "        for l in range(len(a[i]) - 1):\n",
    "            if a[i][l] in 'aeiou' and a[i][l+1] in 'aeiou' and a[i+1][l] in 'aeiou' and a[i+1][l+1] in 'aeiou':\n",
    "                return str(i) + '-' + str(l)\n",
    "    return 'not found'\n",
    "print(VowelSquare([\"aqrst\", \"ukaei\", \"ffooo\"]))"
   ]
  }
 ],
 "metadata": {
  "kernelspec": {
   "display_name": "Python 3",
   "language": "python",
   "name": "python3"
  },
  "language_info": {
   "codemirror_mode": {
    "name": "ipython",
    "version": 3
   },
   "file_extension": ".py",
   "mimetype": "text/x-python",
   "name": "python",
   "nbconvert_exporter": "python",
   "pygments_lexer": "ipython3",
   "version": "3.7.2"
  }
 },
 "nbformat": 4,
 "nbformat_minor": 2
}
